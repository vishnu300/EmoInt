{
 "cells": [
  {
   "cell_type": "code",
   "execution_count": 1,
   "id": "0eb76dda",
   "metadata": {},
   "outputs": [],
   "source": [
    "# models/Deeplearning\n",
    "#----------------------------------------------------------\n",
    "# vishnuam300@gmail.com\n",
    "# VISHNU A M"
   ]
  },
  {
   "cell_type": "markdown",
   "id": "30bfb333",
   "metadata": {},
   "source": [
    "### Data Collection and Preprocessing"
   ]
  },
  {
   "cell_type": "code",
   "execution_count": 2,
   "id": "88b23bed",
   "metadata": {},
   "outputs": [],
   "source": [
    "# Load data set function \n",
    "import pandas as pd\n",
    "\n",
    "def load_data(filename, label):\n",
    "    with open(filename, 'r', encoding='utf-8') as file:\n",
    "        lines = file.readlines()\n",
    "    return pd.DataFrame({'text': lines, 'label': label})\n",
    "# Load data\n",
    "sadness = load_data('sadness-ratings-0to1.train.txt', 'sadness')\n",
    "anger = load_data('anger-ratings-0to1.train.txt', 'anger')\n",
    "joy = load_data('joy-ratings-0to1.train.txt', 'joy')\n",
    "fear = load_data('fear-ratings-0to1.train.txt', 'fear')"
   ]
  },
  {
   "cell_type": "code",
   "execution_count": 3,
   "id": "436c846c",
   "metadata": {},
   "outputs": [],
   "source": [
    "# Combine data\n",
    "data = pd.concat([sadness, anger, joy, fear], ignore_index=True)\n",
    "# Shuffle data\n",
    "data = data.sample(frac=1).reset_index(drop=True)"
   ]
  },
  {
   "cell_type": "markdown",
   "id": "98243ce2",
   "metadata": {},
   "source": [
    "### Exploratory Data Analysis (EDA)"
   ]
  },
  {
   "cell_type": "code",
   "execution_count": 4,
   "id": "2a48f458",
   "metadata": {},
   "outputs": [],
   "source": [
    "import re\n",
    "from nltk.corpus import stopwords\n",
    "from nltk.tokenize import word_tokenize\n",
    "\n",
    "# Text cleaning function\n",
    "def clean_text(text):\n",
    "    # Convert to lowercase\n",
    "    text = text.lower()\n",
    "    # Remove special characters\n",
    "    text = re.sub(r'[^a-z\\s]', '', text) \n",
    "    # Tokenize\n",
    "    tokens = word_tokenize(text)\n",
    "    # Remove stopwords\n",
    "    tokens = [word for word in tokens if word not in stopwords.words('english')]  \n",
    "    return ' '.join(tokens)\n",
    "\n",
    "# Apply cleaning\n",
    "data['text'] = data['text'].apply(clean_text)"
   ]
  },
  {
   "cell_type": "markdown",
   "id": "093b0e17",
   "metadata": {},
   "source": [
    "### Deepleraning libraries"
   ]
  },
  {
   "cell_type": "code",
   "execution_count": 5,
   "id": "da276b20",
   "metadata": {
    "scrolled": true
   },
   "outputs": [
    {
     "name": "stdout",
     "output_type": "stream",
     "text": [
      "WARNING:tensorflow:From C:\\Users\\DELL\\anaconda3\\Lib\\site-packages\\keras\\src\\losses.py:2976: The name tf.losses.sparse_softmax_cross_entropy is deprecated. Please use tf.compat.v1.losses.sparse_softmax_cross_entropy instead.\n",
      "\n"
     ]
    }
   ],
   "source": [
    "import tensorflow as tf\n",
    "from tensorflow.keras.models import Sequential\n",
    "from tensorflow.keras.layers import Embedding, LSTM, Dense, SpatialDropout1D\n",
    "from tensorflow.keras.preprocessing.text import Tokenizer\n",
    "from tensorflow.keras.preprocessing.sequence import pad_sequences"
   ]
  },
  {
   "cell_type": "markdown",
   "id": "e25448a0",
   "metadata": {},
   "source": [
    "### Train-test split"
   ]
  },
  {
   "cell_type": "code",
   "execution_count": 6,
   "id": "1433ce09",
   "metadata": {},
   "outputs": [],
   "source": [
    "# Split data\n",
    "from sklearn.model_selection import train_test_split\n",
    "X_train, X_test, y_train, y_test = train_test_split(data['text'], data['label'], test_size=0.2, random_state=42)\n",
    "\n",
    "# Encode labels\n",
    "from sklearn.preprocessing import LabelEncoder\n",
    "le = LabelEncoder()\n",
    "y_train = le.fit_transform(y_train)\n",
    "y_test = le.transform(y_test)"
   ]
  },
  {
   "cell_type": "code",
   "execution_count": 7,
   "id": "148899ec",
   "metadata": {},
   "outputs": [],
   "source": [
    "# Tokenization and padding\n",
    "tokenizer = Tokenizer(num_words=5000)\n",
    "tokenizer.fit_on_texts(X_train)\n",
    "X_train_seq = tokenizer.texts_to_sequences(X_train)\n",
    "X_test_seq = tokenizer.texts_to_sequences(X_test)\n",
    "X_train_pad = pad_sequences(X_train_seq, maxlen=100)\n",
    "X_test_pad = pad_sequences(X_test_seq, maxlen=100)"
   ]
  },
  {
   "cell_type": "code",
   "execution_count": 8,
   "id": "ac6f55f1",
   "metadata": {},
   "outputs": [
    {
     "name": "stdout",
     "output_type": "stream",
     "text": [
      "WARNING:tensorflow:From C:\\Users\\DELL\\anaconda3\\Lib\\site-packages\\keras\\src\\backend.py:873: The name tf.get_default_graph is deprecated. Please use tf.compat.v1.get_default_graph instead.\n",
      "\n",
      "WARNING:tensorflow:From C:\\Users\\DELL\\anaconda3\\Lib\\site-packages\\keras\\src\\optimizers\\__init__.py:309: The name tf.train.Optimizer is deprecated. Please use tf.compat.v1.train.Optimizer instead.\n",
      "\n",
      "Epoch 1/5\n",
      "WARNING:tensorflow:From C:\\Users\\DELL\\anaconda3\\Lib\\site-packages\\keras\\src\\utils\\tf_utils.py:492: The name tf.ragged.RaggedTensorValue is deprecated. Please use tf.compat.v1.ragged.RaggedTensorValue instead.\n",
      "\n",
      "WARNING:tensorflow:From C:\\Users\\DELL\\anaconda3\\Lib\\site-packages\\keras\\src\\engine\\base_layer_utils.py:384: The name tf.executing_eagerly_outside_functions is deprecated. Please use tf.compat.v1.executing_eagerly_outside_functions instead.\n",
      "\n",
      "46/46 [==============================] - 20s 309ms/step - loss: 1.0841 - accuracy: 0.6422 - val_loss: 0.4159 - val_accuracy: 1.0000\n",
      "Epoch 2/5\n",
      "46/46 [==============================] - 14s 315ms/step - loss: 0.0872 - accuracy: 0.9997 - val_loss: 0.0099 - val_accuracy: 1.0000\n",
      "Epoch 3/5\n",
      "46/46 [==============================] - 14s 308ms/step - loss: 0.0062 - accuracy: 0.9997 - val_loss: 0.0045 - val_accuracy: 1.0000\n",
      "Epoch 4/5\n",
      "46/46 [==============================] - 14s 300ms/step - loss: 0.0032 - accuracy: 1.0000 - val_loss: 0.0030 - val_accuracy: 1.0000\n",
      "Epoch 5/5\n",
      "46/46 [==============================] - 14s 302ms/step - loss: 0.0020 - accuracy: 1.0000 - val_loss: 0.0022 - val_accuracy: 1.0000\n",
      "23/23 [==============================] - 1s 34ms/step - loss: 0.0022 - accuracy: 1.0000\n",
      "Accuracy: 1.0\n"
     ]
    }
   ],
   "source": [
    "# Model Deep learning\n",
    "model_dl = Sequential()\n",
    "model_dl.add(Embedding(input_dim=5000, output_dim=128, input_length=100))\n",
    "model_dl.add(SpatialDropout1D(0.2))\n",
    "model_dl.add(LSTM(100, dropout=0.2, recurrent_dropout=0.2))\n",
    "model_dl.add(Dense(4, activation='softmax'))\n",
    "\n",
    "# Compile and train\n",
    "model_dl.compile(loss='sparse_categorical_crossentropy', optimizer='adam', metrics=['accuracy'])\n",
    "model_dl.fit(X_train_pad, y_train, epochs=5, batch_size=64, validation_data=(X_test_pad, y_test))\n",
    "\n",
    "# Evaluate model\n",
    "loss, accuracy = model_dl.evaluate(X_test_pad, y_test)\n",
    "print('Accuracy:', accuracy)\n"
   ]
  },
  {
   "cell_type": "code",
   "execution_count": 9,
   "id": "24e1022d",
   "metadata": {},
   "outputs": [
    {
     "name": "stdout",
     "output_type": "stream",
     "text": [
      "1/1 [==============================] - 1s 1s/step\n",
      "Text: I am feeling very sad and down today. => Predicted Emotion: sadness\n",
      "Text: I am so angry about what happened! => Predicted Emotion: anger\n",
      "Text: I am absolutely overjoyed with the news! => Predicted Emotion: fear\n",
      "Text: I am really scared about the future. => Predicted Emotion: fear\n"
     ]
    }
   ],
   "source": [
    "# Sample inputs\n",
    "sample_texts = [\n",
    "    \"I am feeling very sad and down today.\",\n",
    "    \"I am so angry about what happened!\",\n",
    "    \"I am absolutely overjoyed with the news!\",\n",
    "    \"I am really scared about the future.\"\n",
    "]\n",
    "\n",
    "cleaned_samples = [clean_text(text) for text in sample_texts]\n",
    "sample_seq = tokenizer.texts_to_sequences(cleaned_samples)\n",
    "sample_pad = pad_sequences(sample_seq, maxlen=100)\n",
    "sample_predictions = model_dl.predict(sample_pad)\n",
    "decoded_predictions = le.inverse_transform(sample_predictions.argmax(axis=1))\n",
    "\n",
    "#results\n",
    "for text, emotion in zip(sample_texts, decoded_predictions):\n",
    "    print(f\"Text: {text} => Predicted Emotion: {emotion}\")"
   ]
  },
  {
   "cell_type": "code",
   "execution_count": null,
   "id": "87659e46",
   "metadata": {},
   "outputs": [],
   "source": []
  }
 ],
 "metadata": {
  "kernelspec": {
   "display_name": "Python 3 (ipykernel)",
   "language": "python",
   "name": "python3"
  },
  "language_info": {
   "codemirror_mode": {
    "name": "ipython",
    "version": 3
   },
   "file_extension": ".py",
   "mimetype": "text/x-python",
   "name": "python",
   "nbconvert_exporter": "python",
   "pygments_lexer": "ipython3",
   "version": "3.11.5"
  }
 },
 "nbformat": 4,
 "nbformat_minor": 5
}
